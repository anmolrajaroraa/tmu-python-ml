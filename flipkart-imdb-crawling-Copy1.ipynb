{
 "cells": [
  {
   "cell_type": "code",
   "execution_count": 4,
   "metadata": {},
   "outputs": [],
   "source": [
    "from bs4 import BeautifulSoup as bs\n",
    "from urllib.request import urlopen"
   ]
  },
  {
   "cell_type": "code",
   "execution_count": 11,
   "metadata": {},
   "outputs": [
    {
     "name": "stdout",
     "output_type": "stream",
     "text": [
      "What do you want to search: mobiles\n"
     ]
    }
   ],
   "source": [
    "searchTerm = input(\"What do you want to search: \")"
   ]
  },
  {
   "cell_type": "code",
   "execution_count": 46,
   "metadata": {},
   "outputs": [],
   "source": [
    "response = urlopen('https://www.flipkart.com/search?q=' + searchTerm + '&otracker=search&otracker1=search&marketplace=FLIPKART&as-show=on&as=off&as-pos=0&as-type=HISTORY')"
   ]
  },
  {
   "cell_type": "code",
   "execution_count": 47,
   "metadata": {},
   "outputs": [],
   "source": [
    "html = bs(response)"
   ]
  },
  {
   "cell_type": "code",
   "execution_count": 48,
   "metadata": {},
   "outputs": [],
   "source": [
    "productNames = html.find_all('div', class_ = '_3wU53n')"
   ]
  },
  {
   "cell_type": "code",
   "execution_count": 49,
   "metadata": {},
   "outputs": [],
   "source": [
    "prices = html.find_all('div', class_ = '_1vC4OE')"
   ]
  },
  {
   "cell_type": "code",
   "execution_count": 50,
   "metadata": {},
   "outputs": [
    {
     "name": "stdout",
     "output_type": "stream",
     "text": [
      "Jivi S3\n",
      "Redmi 8A (Ocean Blue, 32 GB)\n",
      "Lava A1\n",
      "Niamia Cad V Combo of Two Mobiles\n",
      "Lava A1\n",
      "Tecno Camon i4 (Midnight Black, 32 GB)\n",
      "Redmi 8A (Midnight Black, 32 GB)\n",
      "Redmi Go (Black, 16 GB)\n",
      "Lava A1\n",
      "Samsung Guru Music 2\n",
      "Lava A1 Josh\n",
      "Redmi 8A (Sunset Red, 32 GB)\n",
      "Samsung Guru 1200\n",
      "Niamia Cad V\n",
      "Karbonn K140 Pop\n",
      "Realme 3i (Diamond Black, 32 GB)\n",
      "Karbonn K140 Pop\n",
      "Realme 3i (Diamond Red, 64 GB)\n",
      "Redmi 7A (Matte Black, 32 GB)\n",
      "Niamia Cad V Combo of Two Mobiles\n",
      "Realme 3i (Diamond Black, 64 GB)\n",
      "Realme 3i (Diamond Blue, 64 GB)\n",
      "Realme 3i (Diamond Blue, 32 GB)\n",
      "Niamia Cad V Combo of Two Mobiles\n"
     ]
    }
   ],
   "source": [
    "for productName in productNames:\n",
    "    print(productName.text)"
   ]
  },
  {
   "cell_type": "code",
   "execution_count": 51,
   "metadata": {},
   "outputs": [
    {
     "name": "stdout",
     "output_type": "stream",
     "text": [
      "₹699\n",
      "₹6,499\n",
      "₹798\n",
      "₹1,749\n",
      "₹798\n",
      "₹8,999\n",
      "₹6,499\n",
      "₹4,799\n",
      "₹798\n",
      "₹1,760\n",
      "₹745\n",
      "₹6,499\n",
      "₹1,260\n",
      "₹999\n",
      "₹769\n",
      "₹7,999\n",
      "₹699\n",
      "₹9,999\n",
      "₹6,199\n",
      "₹1,749\n",
      "₹9,999\n",
      "₹9,999\n",
      "₹7,999\n",
      "₹1,749\n",
      "₹7,999\n",
      "₹798\n",
      "₹7,999\n",
      "₹8,999\n",
      "₹6,499\n"
     ]
    }
   ],
   "source": [
    "for price in prices:\n",
    "    print(price.text)"
   ]
  },
  {
   "cell_type": "code",
   "execution_count": 52,
   "metadata": {},
   "outputs": [
    {
     "name": "stdout",
     "output_type": "stream",
     "text": [
      "Jivi S3 - ₹699\n",
      "Redmi 8A (Ocean Blue, 32 GB) - ₹6,499\n",
      "Lava A1 - ₹798\n",
      "Niamia Cad V Combo of Two Mobiles - ₹1,749\n",
      "Lava A1 - ₹798\n",
      "Tecno Camon i4 (Midnight Black, 32 GB) - ₹8,999\n",
      "Redmi 8A (Midnight Black, 32 GB) - ₹6,499\n",
      "Redmi Go (Black, 16 GB) - ₹4,799\n",
      "Lava A1 - ₹798\n",
      "Samsung Guru Music 2 - ₹1,760\n",
      "Lava A1 Josh - ₹745\n",
      "Redmi 8A (Sunset Red, 32 GB) - ₹6,499\n",
      "Samsung Guru 1200 - ₹1,260\n",
      "Niamia Cad V - ₹999\n",
      "Karbonn K140 Pop - ₹769\n",
      "Realme 3i (Diamond Black, 32 GB) - ₹7,999\n",
      "Karbonn K140 Pop - ₹699\n",
      "Realme 3i (Diamond Red, 64 GB) - ₹9,999\n",
      "Redmi 7A (Matte Black, 32 GB) - ₹6,199\n",
      "Niamia Cad V Combo of Two Mobiles - ₹1,749\n",
      "Realme 3i (Diamond Black, 64 GB) - ₹9,999\n",
      "Realme 3i (Diamond Blue, 64 GB) - ₹9,999\n",
      "Realme 3i (Diamond Blue, 32 GB) - ₹7,999\n",
      "Niamia Cad V Combo of Two Mobiles - ₹1,749\n"
     ]
    }
   ],
   "source": [
    "for i in range(len(productNames)):\n",
    "    print(productNames[i].text + ' - ' + prices[i].text)"
   ]
  },
  {
   "cell_type": "code",
   "execution_count": 53,
   "metadata": {},
   "outputs": [],
   "source": [
    "productNamesText = []\n",
    "pricesText = []\n",
    "for productName in productNames:\n",
    "    productNamesText.append(productName.text)\n",
    "for price in prices:\n",
    "    pricesText.append(price.text)"
   ]
  },
  {
   "cell_type": "code",
   "execution_count": 54,
   "metadata": {},
   "outputs": [
    {
     "data": {
      "text/plain": [
       "[('Jivi S3', '₹699'),\n",
       " ('Redmi 8A (Ocean Blue, 32 GB)', '₹6,499'),\n",
       " ('Lava A1', '₹798'),\n",
       " ('Niamia Cad V Combo of Two Mobiles', '₹1,749'),\n",
       " ('Lava A1', '₹798'),\n",
       " ('Tecno Camon i4 (Midnight Black, 32 GB)', '₹8,999'),\n",
       " ('Redmi 8A (Midnight Black, 32 GB)', '₹6,499'),\n",
       " ('Redmi Go (Black, 16 GB)', '₹4,799'),\n",
       " ('Lava A1', '₹798'),\n",
       " ('Samsung Guru Music 2', '₹1,760'),\n",
       " ('Lava A1 Josh', '₹745'),\n",
       " ('Redmi 8A (Sunset Red, 32 GB)', '₹6,499'),\n",
       " ('Samsung Guru 1200', '₹1,260'),\n",
       " ('Niamia Cad V', '₹999'),\n",
       " ('Karbonn K140 Pop', '₹769'),\n",
       " ('Realme 3i (Diamond Black, 32 GB)', '₹7,999'),\n",
       " ('Karbonn K140 Pop', '₹699'),\n",
       " ('Realme 3i (Diamond Red, 64 GB)', '₹9,999'),\n",
       " ('Redmi 7A (Matte Black, 32 GB)', '₹6,199'),\n",
       " ('Niamia Cad V Combo of Two Mobiles', '₹1,749'),\n",
       " ('Realme 3i (Diamond Black, 64 GB)', '₹9,999'),\n",
       " ('Realme 3i (Diamond Blue, 64 GB)', '₹9,999'),\n",
       " ('Realme 3i (Diamond Blue, 32 GB)', '₹7,999'),\n",
       " ('Niamia Cad V Combo of Two Mobiles', '₹1,749')]"
      ]
     },
     "execution_count": 54,
     "metadata": {},
     "output_type": "execute_result"
    }
   ],
   "source": [
    "list(zip(productNamesText,pricesText))"
   ]
  },
  {
   "cell_type": "code",
   "execution_count": 55,
   "metadata": {},
   "outputs": [],
   "source": [
    "for i in range(len(productNames)):\n",
    "    productNames[i] = productNames[i].text\n",
    "for i in range(len(prices)):\n",
    "    prices[i] = prices[i].text"
   ]
  },
  {
   "cell_type": "code",
   "execution_count": 56,
   "metadata": {},
   "outputs": [
    {
     "data": {
      "text/plain": [
       "['Jivi S3',\n",
       " 'Redmi 8A (Ocean Blue, 32 GB)',\n",
       " 'Lava A1',\n",
       " 'Niamia Cad V Combo of Two Mobiles',\n",
       " 'Lava A1',\n",
       " 'Tecno Camon i4 (Midnight Black, 32 GB)',\n",
       " 'Redmi 8A (Midnight Black, 32 GB)',\n",
       " 'Redmi Go (Black, 16 GB)',\n",
       " 'Lava A1',\n",
       " 'Samsung Guru Music 2',\n",
       " 'Lava A1 Josh',\n",
       " 'Redmi 8A (Sunset Red, 32 GB)',\n",
       " 'Samsung Guru 1200',\n",
       " 'Niamia Cad V',\n",
       " 'Karbonn K140 Pop',\n",
       " 'Realme 3i (Diamond Black, 32 GB)',\n",
       " 'Karbonn K140 Pop',\n",
       " 'Realme 3i (Diamond Red, 64 GB)',\n",
       " 'Redmi 7A (Matte Black, 32 GB)',\n",
       " 'Niamia Cad V Combo of Two Mobiles',\n",
       " 'Realme 3i (Diamond Black, 64 GB)',\n",
       " 'Realme 3i (Diamond Blue, 64 GB)',\n",
       " 'Realme 3i (Diamond Blue, 32 GB)',\n",
       " 'Niamia Cad V Combo of Two Mobiles']"
      ]
     },
     "execution_count": 56,
     "metadata": {},
     "output_type": "execute_result"
    }
   ],
   "source": [
    "productNames"
   ]
  },
  {
   "cell_type": "code",
   "execution_count": 57,
   "metadata": {},
   "outputs": [
    {
     "data": {
      "text/plain": [
       "['₹699',\n",
       " '₹6,499',\n",
       " '₹798',\n",
       " '₹1,749',\n",
       " '₹798',\n",
       " '₹8,999',\n",
       " '₹6,499',\n",
       " '₹4,799',\n",
       " '₹798',\n",
       " '₹1,760',\n",
       " '₹745',\n",
       " '₹6,499',\n",
       " '₹1,260',\n",
       " '₹999',\n",
       " '₹769',\n",
       " '₹7,999',\n",
       " '₹699',\n",
       " '₹9,999',\n",
       " '₹6,199',\n",
       " '₹1,749',\n",
       " '₹9,999',\n",
       " '₹9,999',\n",
       " '₹7,999',\n",
       " '₹1,749',\n",
       " '₹7,999',\n",
       " '₹798',\n",
       " '₹7,999',\n",
       " '₹8,999',\n",
       " '₹6,499']"
      ]
     },
     "execution_count": 57,
     "metadata": {},
     "output_type": "execute_result"
    }
   ],
   "source": [
    "prices"
   ]
  },
  {
   "cell_type": "code",
   "execution_count": 58,
   "metadata": {},
   "outputs": [
    {
     "name": "stdout",
     "output_type": "stream",
     "text": [
      "Jivi S3 - ₹699\n",
      "Redmi 8A (Ocean Blue, 32 GB) - ₹6,499\n",
      "Lava A1 - ₹798\n",
      "Niamia Cad V Combo of Two Mobiles - ₹1,749\n",
      "Lava A1 - ₹798\n",
      "Tecno Camon i4 (Midnight Black, 32 GB) - ₹8,999\n",
      "Redmi 8A (Midnight Black, 32 GB) - ₹6,499\n",
      "Redmi Go (Black, 16 GB) - ₹4,799\n",
      "Lava A1 - ₹798\n",
      "Samsung Guru Music 2 - ₹1,760\n",
      "Lava A1 Josh - ₹745\n",
      "Redmi 8A (Sunset Red, 32 GB) - ₹6,499\n",
      "Samsung Guru 1200 - ₹1,260\n",
      "Niamia Cad V - ₹999\n",
      "Karbonn K140 Pop - ₹769\n",
      "Realme 3i (Diamond Black, 32 GB) - ₹7,999\n",
      "Karbonn K140 Pop - ₹699\n",
      "Realme 3i (Diamond Red, 64 GB) - ₹9,999\n",
      "Redmi 7A (Matte Black, 32 GB) - ₹6,199\n",
      "Niamia Cad V Combo of Two Mobiles - ₹1,749\n",
      "Realme 3i (Diamond Black, 64 GB) - ₹9,999\n",
      "Realme 3i (Diamond Blue, 64 GB) - ₹9,999\n",
      "Realme 3i (Diamond Blue, 32 GB) - ₹7,999\n",
      "Niamia Cad V Combo of Two Mobiles - ₹1,749\n"
     ]
    }
   ],
   "source": [
    "for productName,price in zip(productNames,prices):\n",
    "    print(productName + ' - ' + price)"
   ]
  },
  {
   "cell_type": "code",
   "execution_count": 59,
   "metadata": {},
   "outputs": [
    {
     "name": "stdout",
     "output_type": "stream",
     "text": [
      "What do you want to search: watches\n"
     ]
    }
   ],
   "source": [
    "searchTerm = input(\"What do you want to search: \")"
   ]
  },
  {
   "cell_type": "code",
   "execution_count": 67,
   "metadata": {},
   "outputs": [],
   "source": [
    "response = urlopen('https://www.flipkart.com/search?q=' + searchTerm + '&otracker=search&otracker1=search&marketplace=FLIPKART&as-show=on&as=off&as-pos=0&as-type=HISTORY')"
   ]
  },
  {
   "cell_type": "code",
   "execution_count": 68,
   "metadata": {},
   "outputs": [],
   "source": [
    "html = bs(response)"
   ]
  },
  {
   "cell_type": "code",
   "execution_count": 71,
   "metadata": {},
   "outputs": [],
   "source": [
    "products = html.find_all('div', class_= 'IIdQZO')"
   ]
  },
  {
   "cell_type": "code",
   "execution_count": 72,
   "metadata": {},
   "outputs": [
    {
     "data": {
      "text/plain": [
       "40"
      ]
     },
     "execution_count": 72,
     "metadata": {},
     "output_type": "execute_result"
    }
   ],
   "source": [
    "len(products)"
   ]
  },
  {
   "cell_type": "code",
   "execution_count": 74,
   "metadata": {},
   "outputs": [
    {
     "name": "stdout",
     "output_type": "stream",
     "text": [
      "Pack of 6 Stylish Analog Watch  - For Men - ₹399\n",
      "AD-10 New Designer Classic Dial Analog Watch  - For Boy... - ₹179\n",
      "LCS-8075 BLUE DIAL DAY & DATE FUNCTIONING Analog Watch ... - ₹349\n",
      "Perfect Multicolor Leather Strap Combo Pack of 4 Analog... - ₹399\n",
      "skm-1155-Blue Skmei Analog-Digital Watch  - For Boys - ₹402\n",
      "Couple Analogue Stainless Still Black Dial Analog Watch... - ₹215\n",
      "Abx8114-BL Blue Unique New Day & Date Functioning Analo... - ₹269\n",
      "AD1166 Analog-Digital Watch  - For Men - ₹418\n",
      "LS2804 All Black Mesh Strap Day and Date Functioning Qu... - ₹349\n",
      "LCS-8049 BLACK DIAL DAY & DATE FUNCTIONING Analog Watch... - ₹349\n",
      "2038-WH Day and Date Analog Watch  - For Men - ₹312\n",
      "LK-1-2-5-7-8 Multicolor Designer pack of 5 Analog Watch... - ₹419\n",
      "209BLUBLU JUST SMILE:) Analog Watch  - For Men - ₹219\n",
      "3 Watches Analog Watch  - For Men - ₹349\n",
      "1164-BR Brown Day and Date Unique New Analog Watch  - F... - ₹299\n",
      "B-GR5046-BWH-CH White & Blue Dial Day & Date Functionin... - ₹329\n",
      "Designer New Collection Black 21st century RADOO Analog... - ₹236\n",
      "LS2727 Avatar Day and Date Functioning Crocodile Strap ... - ₹349\n",
      "CR8063 DayAndDate Functioning Analog Watch  - For Men - ₹312\n",
      "2074-BK Black Day And Date Analog Watch  - For Men - ₹296\n",
      "Gents Exclusive 3 Designer Combo Analog Watch  - For Bo... - ₹346\n",
      "2106-B Black round day and date with Black Plastic Chai... - ₹299\n",
      "LS2745 Wood Coat Avatar~ Day and Date Display Analog Wa... - ₹349\n",
      "1224-White Day and Date Chain Analog Watch  - For Men - ₹340\n",
      "38024PP25 Minimalists Analog Watch  - For Men & Women - ₹850\n",
      "blue22557 SKMEI 1155 LED And Pointer Display 50M Multif... - ₹415\n",
      "Abx2054-BL BLUE DAIL Day & Date Feature Analog Watch  -... - ₹309\n",
      "428-429-438 New Best Artist Designer Combo Watch For me... - ₹499\n",
      "NG38003PP05C Tees Analog Watch  - For Men & Women - ₹795\n",
      "New Beautiful Girls Watch Dial Black and Pink Silver St... - ₹378\n",
      "77085PP01 Volt Analog Watch  - For Men - ₹649\n",
      "Stylish Chronograph Pattern Analog Watch  - For Men - ₹236\n",
      "2058-BL Printed Blue Day and Date Analog Watch  - For M... - ₹322\n",
      "2099-BK Black Day & Date Analog Watch  - For Boys - ₹331\n",
      "LCS-8093 BLUE DIAL DAY & DATE FUNCTIONING Analog Watch ... - ₹312\n",
      "LCS-8404 ORIGINAL GOLD PLATED DAY & DATE FUNCTIONING An... - ₹599\n",
      "SKMEI Sports Multifunctional Dual Time Digital Blue Dia... - ₹435\n",
      "Analog Digital Skmei Analogue Digital Black Dial Black ... - ₹550\n",
      "PRESENTS X-7050 ROYAL & SMART BLACK CHAIN WATCH FOR BOY... - ₹303\n",
      "2098-BK Black Day and Date Unique New Analog Watch  - F... - ₹301\n"
     ]
    }
   ],
   "source": [
    "for product in products:\n",
    "    print(product.find('a', class_ = \n",
    "                       '_2mylT6').text + ' - '\n",
    "          + product.find('div', class_ = \n",
    "                         '_1vC4OE').text)"
   ]
  },
  {
   "cell_type": "code",
   "execution_count": 77,
   "metadata": {},
   "outputs": [
    {
     "data": {
      "text/plain": [
       "NoneType"
      ]
     },
     "execution_count": 77,
     "metadata": {},
     "output_type": "execute_result"
    }
   ],
   "source": [
    "type(html.find('div',class_='_3wU53n'))"
   ]
  },
  {
   "cell_type": "code",
   "execution_count": 79,
   "metadata": {},
   "outputs": [
    {
     "name": "stdout",
     "output_type": "stream",
     "text": [
      "What do you want to search: shoes\n",
      "Combo Pack Of 5 Casual Shoes Loafers For Men - ₹999\n",
      "boxer-303 snekaers for men (Black) Sneakers For Men - ₹299\n",
      "Mesh,Cricket, Badminton, Volly Ball, Sports Running Sho... - ₹389\n",
      "WNDR-13 Running Shoes For Men - ₹499\n",
      "Walking,Sports,Running Training & Gym Shoes For Men - ₹499\n",
      "Mesh Sports Walking Shoes For Men - ₹299\n",
      "Mesh,Cricket, Badminton, Volly Ball, Sports Walking Sho... - ₹499\n",
      "Running Shoes For Men - ₹474\n",
      "Mesh,Cricket, Badminton, Volly Ball, Sports Running Sho... - ₹389\n",
      "Running Shoes For Men - ₹399\n",
      "Combo Pack of 5 Casual Sneakers With Loafers For Men - ₹849\n",
      "Combo Pack of 3 Casual Canvas Shoes For Men - ₹736\n",
      "Combo Pack of 2 Casual Shoes Slip On Sneakers For Men - ₹399\n",
      "Peter England Grey Casual Shoes Canvas Shoes For Men - ₹803\n",
      "Casual shoes,Sneakers for men's,shoes for men's Sneaker... - ₹349\n",
      "Sneakers For Men - ₹399\n",
      "Combo-(2)-1044-993 Sneakers For Women - ₹585\n",
      "Shoes for Men's And Boys Running Shoes For Men - ₹448\n",
      "Mesh,Cricket, Badminton, Volly Ball, Sports Running Sho... - ₹389\n",
      "Men Combo Pack of 2 Casual Shoes Casuals For Men - ₹499\n",
      "Oxygen Running Shoes For Men - ₹499\n",
      "Cosco Running Shoes For Men - ₹649\n",
      "Running Shoes For Men - ₹449\n",
      "Sneakers For Men - ₹1,624\n",
      "SOCKS Running Shoes For Men - ₹499\n",
      "Gel-Contend 4B Running Shoes For Men - ₹1,924\n",
      "Glister Badminton Shoes For Men - ₹832\n",
      "Casuals For Men - ₹399\n",
      "Combo Pack Of 5 Casual Shoes Loafers For Men - ₹899\n",
      "Combo Pack Of 3 Running Shoes Sneakers For Men - ₹799\n",
      "Boxer-303 Sneakers For Men - ₹299\n",
      "Party Casuals For Men - ₹296\n",
      "Mesh Casual Stylish Partywear Casaul Shoes For Mens And... - ₹399\n",
      "SL-111 Sneakers For Women - ₹599\n",
      "Women SL-124 Grey Pink Running Shoes For Women - ₹840\n",
      "Mesh Running Shoes ,Cricket Shoes Running Shoes For Men... - ₹398\n",
      "WNDR-13 Running Shoes For Men - ₹499\n",
      "Mesh,Cricket, Badminton, Volly Ball, Sports Walking Sho... - ₹499\n",
      "DROGO M SS 19 Running Shoes For Men - ₹1,699\n",
      "Genuine Leather Police Shoes for Men, Tan Colour Oxford... - ₹999\n"
     ]
    }
   ],
   "source": [
    "searchTerm = input(\"What do you want to search: \")\n",
    "response = urlopen('https://www.flipkart.com/search?q=' + searchTerm + '&otracker=search&otracker1=search&marketplace=FLIPKART&as-show=on&as=off&as-pos=0&as-type=HISTORY')\n",
    "html = bs(response)\n",
    "if html.find('div', class_= 'IIdQZO') != None:\n",
    "    products = html.find_all('div', class_= 'IIdQZO')\n",
    "    for product in products:\n",
    "        print(product.find('a', class_ = '_2mylT6').text + ' - ' + product.find('div', class_ = '_1vC4OE').text)\n",
    "else:\n",
    "    productNames = html.find_all('div', class_ = '_3wU53n')\n",
    "    prices = html.find_all('div', class_ = '_1vC4OE')\n",
    "    for i in range(len(productNames)):\n",
    "        productNames[i] = productNames[i].text\n",
    "    for i in range(len(prices)):\n",
    "        prices[i] = prices[i].text\n",
    "    for productName,price in zip(productNames,prices):\n",
    "        print(productName + ' - ' + price)"
   ]
  },
  {
   "cell_type": "code",
   "execution_count": 96,
   "metadata": {},
   "outputs": [
    {
     "name": "stdout",
     "output_type": "stream",
     "text": [
      "Enter the name of movie for which you want to see reviews: batman\n"
     ]
    }
   ],
   "source": [
    "movie = input(\"Enter the name of movie for which you want to see reviews: \")"
   ]
  },
  {
   "cell_type": "code",
   "execution_count": 97,
   "metadata": {},
   "outputs": [],
   "source": [
    "response = urlopen('https://www.imdb.com/find?q=' + movie + '&s=tt&ref_=fn_al_tt_mr')"
   ]
  },
  {
   "cell_type": "code",
   "execution_count": 98,
   "metadata": {},
   "outputs": [],
   "source": [
    "html = bs(response)"
   ]
  },
  {
   "cell_type": "code",
   "execution_count": 99,
   "metadata": {},
   "outputs": [],
   "source": [
    "titles = html.find_all('td', class_ = 'result_text')"
   ]
  },
  {
   "cell_type": "code",
   "execution_count": 100,
   "metadata": {},
   "outputs": [
    {
     "data": {
      "text/plain": [
       "200"
      ]
     },
     "execution_count": 100,
     "metadata": {},
     "output_type": "execute_result"
    }
   ],
   "source": [
    "len(titles)"
   ]
  },
  {
   "cell_type": "code",
   "execution_count": 101,
   "metadata": {},
   "outputs": [
    {
     "name": "stdout",
     "output_type": "stream",
     "text": [
      "1.  Batman (1989) \n",
      "2.  Batman: The Animated Series (1992) (TV Series) \n",
      "3.  Batman (1966) (TV Series) \n",
      "4.  The Dark Knight (2008) aka \"Batman - El caballero de la noche\" \n",
      "5.  The Dark Knight Rises (2012) aka \"Batman: El caballero de la noche asciende\" \n",
      "6.  Batman Begins (2005) \n",
      "7.  Batman v Superman: Dawn of Justice (2016) \n",
      "8.  Birds of Prey (2002) (TV Series) aka \"Batmanin tytär\" \n",
      "9.  The Batman (2021) \n",
      "10.  Batman Forever (1995) \n",
      "11.  Batman & Robin (1997) \n",
      "12.  Batman: Hush (2019) (Video) \n",
      "13.  Batman Returns (1992) \n",
      "14.  Batman (1943) \n",
      "15.  The Batman (2004) (TV Series) \n",
      "16.  The Lego Batman Movie (2017) \n",
      "17.  Batman: The Movie (1966) \n",
      "18.  Batman Ninja (2018) \n",
      "19.  Batman Beyond (1999) (TV Series) \n",
      "20.  Batman: The Killing Joke (2016) \n",
      "21.  Batman: Arkham Knight (2015) (Video Game) \n",
      "22.  Son of Batman (2014) (Video) \n",
      "23.  Batman Begins (2005) (Video Game) \n",
      "24.  Batman Beyond: The Series (2015) (TV Series) \n",
      "25.  Batman Beyond: Return of the Joker (2000) (Video) \n",
      "26.  Batman (1989) (Video Game) \n",
      "27.  Batman: Arkham City (2011) (Video Game) \n",
      "28.  Batman: Dead End (2003) (Short) \n",
      "29.  Batman: Arkham Asylum (2009) (Video Game) \n",
      "30.  Batman: Bad Blood (2016) (Video) \n",
      "31.  Batman: Mask of the Phantasm (1993) \n",
      "32.  Batman: Under the Red Hood (2010) (Video) \n",
      "33.  Batman vs. Robin (2015) (Video) \n",
      "34.  Batman: Year One (2011) (Video) \n",
      "35.  Batman Beyond (2014) (TV Short) \n",
      "36.  Batman: Abyss (2013) (TV Mini-Series) \n",
      "37.  Batman: Gotham by Gaslight (2018) \n",
      "38.  Bat Masterson (1958) (TV Series) \n",
      "39.  Batman: Assault on Arkham (2014) (Video) \n",
      "40.  The New Batman Adventures (1997) (TV Series) \n",
      "41.  Batman and Harley Quinn (2017) \n",
      "42.  Batman Beyond \n",
      "43.  Batman vs. Two-Face (2017) (Video) \n",
      "44.  Fatman (in development) \n",
      "45.  Batman: Gotham Knight (2008) (Video) \n",
      "46.  Batman (1991) (Video Game) \n",
      "47.  Beware the Batman (2013) (TV Series) \n",
      "48.  Batman: Arkham Origins (2013) (Video Game) \n",
      "49.  Batman: Arkham VR (2016) (Video Game) \n",
      "50.  Batman & Bill (2017) \n",
      "51.  Batman: Anarchy (2016) \n",
      "52.  Batman: The Dark Knight Returns, Part 1 (2012) (Video) \n",
      "53.  Batman (2006) (Short) \n",
      "54.  Batman (2013) (Video Game) \n",
      "55.  Batman and Robin (1949) \n",
      "56.  The Lego Batman Movie 2 (2022) \n",
      "57.  Batman: The Brave and the Bold (2008) (TV Series) \n",
      "58.  Gay Batman (2014) (Short) \n",
      "59.  The Batman vs. Dracula (2005) (Video) \n",
      "60.  Batman: The Dark Knight (2008) (Video) \n",
      "61.  Batman: The Dark Knight Returns, Part 2 (2013) (Video) \n",
      "62.  Batman vs Teenage Mutant Ninja Turtles (2019) (Video) \n",
      "63.  Batman & Jesus (2017) \n",
      "64.  Quella villa in fondo al parco (1988) \n",
      "65.  Batman: Return of the Caped Crusaders (2016) \n",
      "66.  Batman Unlimited (2015) (TV Series) \n",
      "67.  Superman/Batman: Apocalypse (2010) (Video) \n",
      "68.  Jake and the Fatman (1987) (TV Series) \n",
      "69.  I Am That Man (2019) \n",
      "70.  Wombat Man (2019) (TV Series) \n",
      "71.  Batman: The Telltale Series (2016) (Video Game) \n",
      "72.  LEGO DC: Batman - Family Matters (2019) \n",
      "73.  Batman & Mr. Freeze: SubZero (1998) (Video) \n",
      "74.  Batman: Ashes to Ashes (2009) (Short) \n",
      "75.  Batman: Mystery of the Batwoman (2003) (Video) \n",
      "76.  Batman V Arrow (2016) (Video) \n",
      "77.  Batman: The Enemy Within (2017) (Video Game) \n",
      "78.  Superman/Batman: Public Enemies (2009) (Video) \n",
      "79.  Batman Dracula (1964) \n",
      "80.  Batman & Robin (1998) (Video Game) \n",
      "81.  Batman: Black and White (2008) (TV Series) \n",
      "82.  Na Na Na Batman (2014) (Video) \n",
      "83.  The Great Man's Lady (1942) \n",
      "84.  Batman Beyond: The Movie (1999) (TV Movie) \n",
      "85.  Fat Man and Little Boy (1989) \n",
      "86.  The Fat Man (1951) \n",
      "87.  Batman: Strange Days (2014) (TV Short) \n",
      "88.  Batman Unlimited: Monster Mayhem (2015) (Video) \n",
      "89.  The Great Man (2020) \n",
      "90.  Batman: Vengeance (2001) (Video Game) \n",
      "91.  L'homme de Rio (1964) \n",
      "92.  Batman Beyond (2000) (Video Game) \n",
      "93.  Boatman (1985) \n",
      "94.  Wombat-Man (2017) (Short) \n",
      "95.  Batman Is Just Not That Into You (2017) (Video) \n",
      "96.  Batman (1985) (TV Episode)  - Season 2 | Episode 8  - Tales from a Long Room (1980) (TV Series)  \n",
      "97.  Bat Man (2012) (TV Episode)  - Season 1 | Episode 3  - American Chainsaw (2012) (TV Series)  \n",
      "98.  Batman (2016) (TV Episode)  - Season 1 | Episode 7  - The Nicole and Tonya Show (2016) (TV Series)  \n",
      "99.  Batman (2012) (TV Episode)  - Season 1 | Episode 9  - Bad Days (2012) (TV Series)  \n",
      "100.  Batman (2007) (TV Episode) - Date Night (2004) (TV Series)  \n",
      "101.  Batman (2012) (TV Episode)  - Season 4 | Episode 15  - Hey Ash, Whatcha Playin'? (2008) (TV Series)  \n",
      "102.  Batman (2016) (TV Episode)  - Season 1 | Episode 3  - Wacky Wally's Vintage Toys (2016) (TV Series)  \n",
      "103.  Batman (TV Episode) - UCB Comedy Originals (2007) (TV Series)  \n",
      "104.  Batman (2008) (TV Episode)  - Season 1 | Episode 12  - Profesionali (2008) (TV Series)  \n",
      "105.  Batman (2018) (TV Episode)  - Season 1 | Episode 9  - DC Film Reviews (2018) (TV Series)  \n",
      "106.  Batman (2013) (TV Episode)  - Season 4 | Episode 6  - Oliver Harper's Retrospectives and Reviews (2011) (TV Series)  \n",
      "107.  Batman (2017) (TV Episode)  - Season 1 | Episode 3  - Fantastic Fiction (2017) (TV Mini-Series)  \n",
      "108.  Batman (2007) (TV Episode)  - Season 5 | Episode 7  - DVD_TV: Enhanced Version (2002) (TV Series)  \n",
      "109.  Batman (2002) (TV Episode)  - Season 3 | Episode 2  - Bradaz (2001) (TV Series)  \n",
      "110.  Bat-Man (2013) (Short) \n",
      "111.  Batman (2011) (TV Episode)  - Season 3 | Episode 15  - You Can Play This! (2009) (TV Series)  \n",
      "112.  Batman (2011) (TV Episode)  - Season 5 | Episode 2  - The Bob Show (2007) (TV Series)  \n",
      "113.  Batman (1998) (TV Episode)  - Season 1 | Episode 3  - Tonttu Toljanterin joulupulma (1998) (TV Series)  \n",
      "114.  Batman (2017) (TV Episode)  - Season 1 | Episode 6  - MK Ultra (2017) (TV Series)  \n",
      "115.  Batman (2016) (TV Episode)  - Season 2 | Episode 1  - Captain Kyle's Cosplay Spotlight (2015) (TV Series)  \n",
      "116.  Batman (2001) (TV Episode) - Caméra café (2001) (TV Series)  \n",
      "117.  Batman (2019) (TV Episode)  - Season 2 | Episode 8  - Truplo (2018) (TV Series)  \n",
      "118.  Batman (2013) (TV Episode)  - Season 1 | Episode 2  - Cosplay Piano (2013) (TV Series)  \n",
      "119.  Batman (2012) (TV Episode)  - Season 1 | Episode 7  - Icons of Teen (2012) (TV Series)  \n",
      "120.  Bat Man (2012) (TV Episode)  - Season 1 | Episode 3  - The Bat Man of Shanghai (2012) (TV Mini-Series)  \n",
      "121.  Batman (2006) (TV Episode)  - Season 1 | Episode 1  - FANatical (2006) (TV Series)  \n",
      "122.  Batman (2018) (TV Episode)  - Season 1 | Episode 7  - Let's Play with LowRes (2018) (TV Series)  \n",
      "123.  Batman (2008) (TV Episode)  - Season 1 | Episode 5  - 5 Second Movies (2007) (TV Series)  \n",
      "124.  Batman! (2011) (TV Episode)  - Season 1 | Episode 72  - Play! (2010) (TV Series)  \n",
      "125.  Batman (2007) (TV Episode)  - Season 2 | Episode 7  - Video Game Vault (2006) (TV Series)  \n",
      "126.  Batman (1994) (TV Episode)  - Season 1 | Episode 1  - Downey (1994) (TV Series)  \n",
      "127.  Batman (2009) (TV Episode)  - Season 2 | Episode 30  - Merci Qui? (2008) (TV Series)  \n",
      "128.  Batman (1996) (TV Episode)  - Season 5 | Episode 4  - French and Saunders (1987) (TV Series)  \n",
      "129.  Batman (2012) (TV Episode)  - Season 1 | Episode 5  - The Retard Gamer Show (2011) (TV Series)  \n",
      "130.  Bat & Man (2010) (TV Episode) - The Nature of Things (1960) (TV Series)  \n",
      "131.  Eat-Man (1997) (TV Series) \n",
      "132.  That Man Bolt (1973) \n",
      "133.  The Batman Superman Movie: World's Finest (1997) (TV Movie) \n",
      "134.  Lego Batman: The Videogame (2008) (Video Game) \n",
      "135.  Scooby-Doo & Batman: The Brave and the Bold (2018) \n",
      "136.  Batman: Arkham Knight (2015) (Short) \n",
      "137.  Batman Returns (1992) (Video Game) \n",
      "138.  Batman: Return to Arkham (2016) (Video Game) \n",
      "139.  Atman (1975) (Short) \n",
      "140.  James Batman (1966) \n",
      "141.  The New Adventures of Batman (1977) (TV Series) \n",
      "142.  Batman: Arkham Underworld (2016) (Video Game) \n",
      "143.  Batman: Arkham Origins - Blackgate (2013) (Video Game) \n",
      "144.  Superman Meets Batman (2016) (Short) \n",
      "145.  Batman: Dante (2016) (Short) \n",
      "146.  The Batman/Superman Hour (1968) (TV Series) \n",
      "147.  Lego Batman 3: Beyond Gotham (2014) (Video Game) \n",
      "148.  Fat Man (in development) \n",
      "149.  Batman: New Times (2005) (Video) \n",
      "150.  Batman Unlimited: Animal Instincts (2015) (Video) \n",
      "151.  The Batman Chronicles (2014) (Short) \n",
      "152.  Batman 1 (2015) (TV Episode)  - Season 1 | Episode 14  - Loitering in Wonderland Improv Theater (2015) (TV Series)  \n",
      "153.  A Bat Man (2018) (TV Episode) - Characters Welcome (2014) (TV Series)  \n",
      "154.  Batman: Dark Flight (2015) (Video) \n",
      "155.  Mr. Patman (1980) \n",
      "156.  Meerkat Manor (2005) (TV Series) \n",
      "157.  The Batman (2012) (Video) \n",
      "158.  The Batman (2009) (Short) \n",
      "159.  Batman: Rise of Sin Tzu (2003) (Video Game) \n",
      "160.  Batman Unmasked (2008) (TV Movie) \n",
      "161.  The Death of Batman (2003) (Short) \n",
      "162.  That's Batman (2018) (Short) \n",
      "163.  Lego Batman 2: DC Super Heroes (2012) (Video Game) \n",
      "164.  Batman Parody (2015) (Short) \n",
      "165.  Batman Tech (2008) (TV Short) \n",
      "166.  Batman: The Long Halloween (2015) (TV Mini-Series) \n",
      "167.  Batman: The Creep Crusader (2013) (Short) \n",
      "168.  Batman: Death Wish (2012) (Video) \n",
      "169.  Alyas Batman en Robin (1991) \n",
      "170.  Batman: The Dark Knight (2018) (Short) \n",
      "171.  Batman: Dark Tomorrow (2003) (Video Game) \n",
      "172.  The Boatman (2015) \n",
      "173.  The Bat Man of Shanghai (2012) (TV Mini-Series) \n",
      "174.  Batman Beyond (2013) (Video) \n",
      "175.  That Man in the Picture (2018) (Video) \n",
      "176.  Goatman (2017) (Short) \n",
      "177.  Batman Returns (I) (1993) (Video Game) \n",
      "178.  Batman Legends (2006) (Short) \n",
      "179.  Geu-nam-ja Oh-su (2018) (TV Series) \n",
      "180.  Batmania Born (2014) (Short) \n",
      "181.  Lego Batman: The Movie - DC Super Heroes Unite (2013) (Video) \n",
      "182.  The Batman Shootings (2012) (TV Movie) \n",
      "183.  Batman #10 (2012) (TV Episode)  - Season 2 | Episode 1  - REC Tv (2012) (TV Series)  \n",
      "184.  BATMAN IRL (2016) (TV Episode)  - Season 1 | Episode 2  - AOK (2016) (TV Series)  \n",
      "185.  Batman #15 (2014) (TV Episode)  - Season 3 | Episode 5  - REC Tv (2012) (TV Series)  \n",
      "186.  Batman Ben (2016) (TV Episode)  - Season 2 | Episode 13  - This Week in Hollywood (2015) (TV Series)  \n",
      "187.  Batmantis (1994) (TV Episode)  - Season 1 | Episode 8  - Space Ghost Coast to Coast (1993) (TV Series)  \n",
      "188.  Batman #147 (2008) (TV Episode)  - Season 1 | Episode 3  - Atop the Fourth Wall (2008) (TV Series)  \n",
      "189.  Batman Day (2018) (TV Episode)  - Season 1 | Episode 1  - DC Daily (2018) (TV Series)  \n",
      "190.  Ask Batman (2018) (TV Movie) \n",
      "191.  Batman Untold (2010) \n",
      "192.  Batman Revealed (2012) \n",
      "193.  Ratman (1987) (TV Series) \n",
      "194.  Batman Forever: The Arcade Game (1996) (Video Game) \n",
      "195.  The Great Man (1956) \n",
      "196.  Alyas Batman at Robin (1965) \n",
      "197.  How To, Batman! (2009) (TV Series) \n",
      "198.  Lego DC Comics: Batman Be-Leaguered (2014) (TV Short) \n",
      "199.  Holy Batmania (1989) (Video) \n",
      "200.  Batman and Robin (1964) (Short) \n"
     ]
    }
   ],
   "source": [
    "for i in range(len(titles)):\n",
    "    print(f\"{i + 1}. {titles[i].text}\")"
   ]
  },
  {
   "cell_type": "code",
   "execution_count": 107,
   "metadata": {},
   "outputs": [
    {
     "name": "stdout",
     "output_type": "stream",
     "text": [
      "Which one (enter number of the movie): 61\n"
     ]
    }
   ],
   "source": [
    "movieNumber = int(input(\"Which one (enter number of the movie): \"))"
   ]
  },
  {
   "cell_type": "code",
   "execution_count": 108,
   "metadata": {},
   "outputs": [
    {
     "name": "stdout",
     "output_type": "stream",
     "text": [
      "<td class=\"result_text\"> <a href=\"/title/tt2166834/\">Batman: The Dark Knight Returns, Part 2</a> (2013) (Video) </td>\n"
     ]
    }
   ],
   "source": [
    "print(titles[movieNumber - 1])\n",
    "href = titles[movieNumber - 1].find('a')['href']"
   ]
  },
  {
   "cell_type": "code",
   "execution_count": 109,
   "metadata": {},
   "outputs": [],
   "source": [
    "response = urlopen('https://imdb.com' + href)"
   ]
  },
  {
   "cell_type": "code",
   "execution_count": 110,
   "metadata": {},
   "outputs": [],
   "source": [
    "html = bs(response)"
   ]
  },
  {
   "cell_type": "code",
   "execution_count": 111,
   "metadata": {},
   "outputs": [
    {
     "name": "stdout",
     "output_type": "stream",
     "text": [
      "The Batman has returned after a 10-year absence. The Gotham authorities want to arrest him. An old foe wants a reunion. The Feds want the Man of Tomorrow to put a stop to him.\n"
     ]
    }
   ],
   "source": [
    "print(html.find('div', class_ = 'summary_text').text.strip())"
   ]
  },
  {
   "cell_type": "code",
   "execution_count": null,
   "metadata": {},
   "outputs": [],
   "source": []
  }
 ],
 "metadata": {
  "kernelspec": {
   "display_name": "Python 3",
   "language": "python",
   "name": "python3"
  },
  "language_info": {
   "codemirror_mode": {
    "name": "ipython",
    "version": 3
   },
   "file_extension": ".py",
   "mimetype": "text/x-python",
   "name": "python",
   "nbconvert_exporter": "python",
   "pygments_lexer": "ipython3",
   "version": "3.7.3"
  }
 },
 "nbformat": 4,
 "nbformat_minor": 2
}
